import pandas as pd
import seaborn as sns
import matplotlib.pyplot as plt

from sklearn.datasets import load_breast_cancer
from sklearn.preprocessing import StandardScaler
from sklearn.model_selection import train_test_split
from sklearn.naive_bayes import GaussianNB
from sklearn.decomposition import PCA
from sklearn.metrics import accuracy_score


def PRINT(msg):
    print('*'*80)
    print(msg)
    print('*'*80)
def PRINTL():
    print('*'*80)





dataset = load_breast_cancer()


cancer_data_df = pd.DataFrame(data = dataset.data, columns=dataset.feature_names)
cancer_data_df.head()


cancer_label_df = pd.DataFrame(data = dataset.target, columns = [f'label'])
cancer_label_df.head()


cancer_df = pd.concat([cancer_data_df, cancer_label_df], axis=1)
cancer_df.head()








cancer_df


cancer_df.info()


cancer_df.describe()





cancer_df.isnull().sum()








cancer_df.shape


plt.figure(figsize=(18, 6)) 
sns.boxplot(data=cancer_df[list(cancer_df.columns)[:10]])
plt.show()


plt.figure(figsize=(18,6))
sns.boxplot(data=cancer_df[list(cancer_df.columns)[10:20]])
plt.show()


plt.figure(figsize=(18,6))
sns.boxplot(data=cancer_df[list(cancer_df.columns)[20:30]])
plt.show()





def count_outliers(df, column):
    Q1 = df[column].quantile(0.25)
    Q3 = df[column].quantile(0.75)
    IQR = Q3 - Q1

    lower_bound = Q1 - 1.5 * IQR
    upper_bound = Q3 + 1.5 * IQR

    outliers = df[(df[column] < lower_bound) | (df[column] > upper_bound)]
    return len(outliers)


PRINT('Outliers precentage check:')
print(f'mean area column -> {round(count_outliers(cancer_df, "mean area") / cancer_df.shape[0] *100, 3)}%')
print(f'area error column -> {round(count_outliers(cancer_df, "area error") / cancer_df.shape[0] *100, 3)}%')
print(f'worst area column -> {round(count_outliers(cancer_df, "worst area") / cancer_df.shape[0] *100, 3)}%')
print(f'There is total {cancer_df.shape[0]} rows')
PRINTL()











plt.figure(figsize=(20, 10))
sns.heatmap(cancer_df.drop(columns=['label']).corr() > 0.9, annot=True, fmt=".2f", cmap='coolwarm')
plt.title('High Correlation Between All Features (> 0.9)', fontsize = 20)
plt.tight_layout()
plt.show()








numeric_cols = cancer_df.iloc[:, :-1].select_dtypes(include='number').columns

# determine grid size
n_cols = 4 
n_rows = -(-len(numeric_cols) // n_cols)  


fig, axes = plt.subplots(n_rows, n_cols, figsize=(4*n_cols, 3*n_rows))
axes = axes.flatten()

# plot each histogram
for i, col in enumerate(numeric_cols):
    sns.histplot(cancer_df[col], kde=True, ax=axes[i])
    axes[i].set_title(col)

# hide unused subplots
for j in range(i + 1, len(axes)):
    axes[j].set_visible(False)

plt.tight_layout()
plt.show()





sns.countplot(data=cancer_df, x='label', stat='percent')
plt.title('Label Distribution')
plt.show()








cancer_df.head()





scaler = StandardScaler()

# scale only the feature & concate the label afterwards
scaled_features = scaler.fit_transform(cancer_df.iloc[:, :-1])
cancer_df_ = pd.DataFrame(data=scaled_features, columns=list(cancer_df.columns)[:-1])
cancer_df = pd.concat([cancer_df_, cancer_df.iloc[:, -1]], axis=1)

cancer_df.tail()








tdf = cancer_df.copy()


features = cancer_df.iloc[:,:-1].to_numpy()
labels = cancer_df.iloc[:,-1].to_numpy()


# reduce to 2D for better visualization
pca = PCA(n_components=2)
X_pca = pca.fit_transform(features)

PRINTL()
print(f'PCA variance ratio -> {pca.explained_variance_ratio_}')
PRINTL()
# plot the results
plt.figure(figsize=(12,6))
plt.scatter(X_pca[:, 0], X_pca[:, 1], c=labels, cmap='coolwarm', edgecolor='k')
plt.xlabel('PCA1')
plt.ylabel('PCA2')
plt.title('PCA for Breast Cancer Dataset')
plt.show()





pca_df_x = pd.DataFrame(X_pca, columns=['PCA1', 'PCA2'])
pca_df = pd.concat([pca_df_x, cancer_df.iloc[:, -1]], axis=1)

pca_df.head()



